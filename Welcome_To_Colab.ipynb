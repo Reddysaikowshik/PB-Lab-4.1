{
  "cells": [
    {
      "cell_type": "markdown",
      "metadata": {
        "id": "view-in-github",
        "colab_type": "text"
      },
      "source": [
        "<a href=\"https://colab.research.google.com/github/Reddysaikowshik/PB-Lab-4.1/blob/main/Welcome_To_Colab.ipynb\" target=\"_parent\"><img src=\"https://colab.research.google.com/assets/colab-badge.svg\" alt=\"Open In Colab\"/></a>"
      ]
    },
    {
      "cell_type": "code",
      "source": [
        "import scipy.stats as stats\n",
        "import math\n",
        "\n",
        "N = 100\n",
        "p = 0.7\n",
        "\n",
        "prob_60 = stats.binom.pmf(60, N, p)\n",
        "print(f\"Probability that exactly 60 students pass: {prob_60:.4f}\")\n",
        "\n",
        "prob_75_or_more = 1 - stats.binom.cdf(74, N, p)\n",
        "print(f\"Probability that at least 75 students pass: {prob_75_or_more:.4f}\")\n",
        "\n",
        "expected_pass = N * p\n",
        "print(f\"Expected number of students passing: {expected_pass}\")\n"
      ],
      "metadata": {
        "colab": {
          "base_uri": "https://localhost:8080/"
        },
        "id": "qAvJXJDnodmB",
        "outputId": "34442829-a753-44a9-c275-f8b88b99c644"
      },
      "execution_count": 40,
      "outputs": [
        {
          "output_type": "stream",
          "name": "stdout",
          "text": [
            "Probability that exactly 60 students pass: 0.0085\n",
            "Probability that at least 75 students pass: 0.1631\n",
            "Expected number of students passing: 70.0\n"
          ]
        }
      ]
    }
  ],
  "metadata": {
    "colab": {
      "name": "Welcome To Colab",
      "provenance": [],
      "include_colab_link": true
    },
    "kernelspec": {
      "display_name": "Python 3",
      "name": "python3"
    }
  },
  "nbformat": 4,
  "nbformat_minor": 0
}